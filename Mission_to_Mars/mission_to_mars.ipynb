{
 "cells": [
  {
   "cell_type": "code",
   "execution_count": 1,
   "id": "furnished-shore",
   "metadata": {},
   "outputs": [],
   "source": [
    "import pandas as pd\n",
    "import time\n",
    "from bs4 import BeautifulSoup as bs\n",
    "from splinter import Browser\n",
    "from webdriver_manager.chrome import ChromeDriverManager"
   ]
  },
  {
   "cell_type": "code",
   "execution_count": 2,
   "id": "crazy-quantum",
   "metadata": {},
   "outputs": [
    {
     "name": "stderr",
     "output_type": "stream",
     "text": [
      "[WDM] - Current google-chrome version is 88.0.4324\n",
      "[WDM] - Get LATEST driver version for 88.0.4324\n",
      "[WDM] - Driver [/Users/kevinricker/.wdm/drivers/chromedriver/mac64/88.0.4324.96/chromedriver] found in cache\n"
     ]
    },
    {
     "name": "stdout",
     "output_type": "stream",
     "text": [
      " \n"
     ]
    }
   ],
   "source": [
    "executable_path = {'executable_path': ChromeDriverManager().install()}\n",
    "browser = Browser('chrome', **executable_path, headless=False)"
   ]
  },
  {
   "cell_type": "code",
   "execution_count": 3,
   "id": "announced-community",
   "metadata": {},
   "outputs": [],
   "source": [
    "url = 'https://mars.nasa.gov/news'\n",
    "browser.visit(url)"
   ]
  },
  {
   "cell_type": "code",
   "execution_count": 4,
   "id": "departmental-northern",
   "metadata": {},
   "outputs": [],
   "source": [
    "html = browser.html\n",
    "soup = bs(html, 'html.parser')\n",
    "slide_element = soup.select_one(\"ul.item_list li.slide\")"
   ]
  },
  {
   "cell_type": "code",
   "execution_count": 5,
   "id": "portable-porcelain",
   "metadata": {},
   "outputs": [
    {
     "data": {
      "text/plain": [
       "<div class=\"content_title\"><a href=\"/news/8844/nasas-maven-continues-to-advance-mars-science-and-telecommunications-relay-efforts/\" target=\"_self\">NASA's MAVEN Continues to Advance Mars Science and Telecommunications Relay Efforts</a></div>"
      ]
     },
     "execution_count": 5,
     "metadata": {},
     "output_type": "execute_result"
    }
   ],
   "source": [
    "slide_element.find(\"div\", class_ = \"content_title\")"
   ]
  },
  {
   "cell_type": "code",
   "execution_count": 6,
   "id": "informative-sensitivity",
   "metadata": {},
   "outputs": [
    {
     "name": "stdout",
     "output_type": "stream",
     "text": [
      "NASA's MAVEN Continues to Advance Mars Science and Telecommunications Relay Efforts\n"
     ]
    }
   ],
   "source": [
    "news_title = slide_element.find(\"div\", class_ = \"content_title\").get_text()\n",
    "print(news_title)"
   ]
  },
  {
   "cell_type": "code",
   "execution_count": 7,
   "id": "retired-brave",
   "metadata": {},
   "outputs": [
    {
     "name": "stdout",
     "output_type": "stream",
     "text": [
      "With a suite of new national and international spacecraft primed to explore the Red Planet after their arrival next month, NASA’s MAVEN mission is ready to provide support and continue its study of the Martian atmosphere.\n"
     ]
    }
   ],
   "source": [
    "news_par = slide_element.find(\"div\", class_ = \"article_teaser_body\").get_text()\n",
    "print(news_par)"
   ]
  },
  {
   "cell_type": "code",
   "execution_count": 8,
   "id": "protective-dryer",
   "metadata": {},
   "outputs": [
    {
     "name": "stderr",
     "output_type": "stream",
     "text": [
      "[WDM] - Current google-chrome version is 88.0.4324\n",
      "[WDM] - Get LATEST driver version for 88.0.4324\n",
      "[WDM] - Driver [/Users/kevinricker/.wdm/drivers/chromedriver/mac64/88.0.4324.96/chromedriver] found in cache\n"
     ]
    },
    {
     "name": "stdout",
     "output_type": "stream",
     "text": [
      " \n"
     ]
    }
   ],
   "source": [
    "executable_path = {'executable_path': ChromeDriverManager().install()}\n",
    "browser = Browser('chrome', **executable_path, headless=False)"
   ]
  },
  {
   "cell_type": "code",
   "execution_count": 9,
   "id": "continued-coral",
   "metadata": {},
   "outputs": [],
   "source": [
    "url = \"https://www.jpl.nasa.gov/images/?search=&category=Mars\"\n",
    "browser.visit(url)"
   ]
  },
  {
   "cell_type": "code",
   "execution_count": 10,
   "id": "standard-theorem",
   "metadata": {},
   "outputs": [],
   "source": [
    "img_html=browser.html\n",
    "soup=bs(img_html, \"html.parser\")\n",
    "base_url = \"https://www.jpl.nasa.gov\"\n",
    "latest_img = soup.find_all('div', class_=\"SearchResultCard\")\n",
    "img=latest_img[0]\n",
    "latest=img.find(\"a\")[\"href\"]\n",
    "new_url = base_url + latest"
   ]
  },
  {
   "cell_type": "code",
   "execution_count": 11,
   "id": "unlimited-smart",
   "metadata": {},
   "outputs": [
    {
     "name": "stdout",
     "output_type": "stream",
     "text": [
      "https://www.jpl.nasa.gov/images/spring-sprouts-on-mars/\n"
     ]
    }
   ],
   "source": [
    "print(new_url)"
   ]
  },
  {
   "cell_type": "code",
   "execution_count": 12,
   "id": "seven-level",
   "metadata": {},
   "outputs": [
    {
     "name": "stdout",
     "output_type": "stream",
     "text": [
      "https://d2pn8kiwq2w21t.cloudfront.net/images/jpegPIA24390.2e16d0ba.fill-400x400-c50.jpg\n"
     ]
    }
   ],
   "source": [
    "browser.visit(url)\n",
    "img_html=browser.html\n",
    "soup=bs(img_html, \"html.parser\")\n",
    "large_img = soup.find_all('div', class_=\"BaseImagePlaceholder\")\n",
    "large_img = large_img[0]\n",
    "featured_image_url = large_img.find('img')['src']\n",
    "print(featured_image_url)"
   ]
  },
  {
   "cell_type": "code",
   "execution_count": 13,
   "id": "revised-bowling",
   "metadata": {},
   "outputs": [],
   "source": [
    "# https://www.jpl.nasa.gov/spaceimages/images/largesize/PIA24390_hires.jpg"
   ]
  },
  {
   "cell_type": "code",
   "execution_count": 15,
   "id": "desperate-drive",
   "metadata": {},
   "outputs": [],
   "source": [
    "mars_df = pd.read_html(\"https://space-facts.com/mars/\")[0]"
   ]
  },
  {
   "cell_type": "code",
   "execution_count": 18,
   "id": "elementary-battlefield",
   "metadata": {},
   "outputs": [
    {
     "data": {
      "text/html": [
       "<style  type=\"text/css\" >\n",
       "</style><table id=\"T_a084d_\" ><thead>    <tr>        <th class=\"col_heading level0 col0\" >Description</th>        <th class=\"col_heading level0 col1\" >Mars</th>    </tr></thead><tbody>\n",
       "                <tr>\n",
       "                                <td id=\"T_a084d_row0_col0\" class=\"data row0 col0\" >Equatorial Diameter:</td>\n",
       "                        <td id=\"T_a084d_row0_col1\" class=\"data row0 col1\" >6,792 km</td>\n",
       "            </tr>\n",
       "            <tr>\n",
       "                                <td id=\"T_a084d_row1_col0\" class=\"data row1 col0\" >Polar Diameter:</td>\n",
       "                        <td id=\"T_a084d_row1_col1\" class=\"data row1 col1\" >6,752 km</td>\n",
       "            </tr>\n",
       "            <tr>\n",
       "                                <td id=\"T_a084d_row2_col0\" class=\"data row2 col0\" >Mass:</td>\n",
       "                        <td id=\"T_a084d_row2_col1\" class=\"data row2 col1\" >6.39 × 10^23 kg (0.11 Earths)</td>\n",
       "            </tr>\n",
       "            <tr>\n",
       "                                <td id=\"T_a084d_row3_col0\" class=\"data row3 col0\" >Moons:</td>\n",
       "                        <td id=\"T_a084d_row3_col1\" class=\"data row3 col1\" >2 (Phobos & Deimos)</td>\n",
       "            </tr>\n",
       "            <tr>\n",
       "                                <td id=\"T_a084d_row4_col0\" class=\"data row4 col0\" >Orbit Distance:</td>\n",
       "                        <td id=\"T_a084d_row4_col1\" class=\"data row4 col1\" >227,943,824 km (1.38 AU)</td>\n",
       "            </tr>\n",
       "            <tr>\n",
       "                                <td id=\"T_a084d_row5_col0\" class=\"data row5 col0\" >Orbit Period:</td>\n",
       "                        <td id=\"T_a084d_row5_col1\" class=\"data row5 col1\" >687 days (1.9 years)</td>\n",
       "            </tr>\n",
       "            <tr>\n",
       "                                <td id=\"T_a084d_row6_col0\" class=\"data row6 col0\" >Surface Temperature:</td>\n",
       "                        <td id=\"T_a084d_row6_col1\" class=\"data row6 col1\" >-87 to -5 °C</td>\n",
       "            </tr>\n",
       "            <tr>\n",
       "                                <td id=\"T_a084d_row7_col0\" class=\"data row7 col0\" >First Record:</td>\n",
       "                        <td id=\"T_a084d_row7_col1\" class=\"data row7 col1\" >2nd millennium BC</td>\n",
       "            </tr>\n",
       "            <tr>\n",
       "                                <td id=\"T_a084d_row8_col0\" class=\"data row8 col0\" >Recorded By:</td>\n",
       "                        <td id=\"T_a084d_row8_col1\" class=\"data row8 col1\" >Egyptian astronomers</td>\n",
       "            </tr>\n",
       "    </tbody></table>"
      ],
      "text/plain": [
       "<pandas.io.formats.style.Styler at 0x7fe7154fa730>"
      ]
     },
     "execution_count": 18,
     "metadata": {},
     "output_type": "execute_result"
    }
   ],
   "source": [
    "mars_df.columns=[\"Description\", \"Mars\"]\n",
    "# mars_df.reset_index(drop=True, inplace=True)\n",
    "mars_df.style.hide_index()"
   ]
  },
  {
   "cell_type": "code",
   "execution_count": 19,
   "id": "european-fighter",
   "metadata": {},
   "outputs": [
    {
     "name": "stdout",
     "output_type": "stream",
     "text": [
      "<table border=\"1\" class=\"dataframe\">\n",
      "  <thead>\n",
      "    <tr style=\"text-align: right;\">\n",
      "      <th></th>\n",
      "      <th>Description</th>\n",
      "      <th>Mars</th>\n",
      "    </tr>\n",
      "  </thead>\n",
      "  <tbody>\n",
      "    <tr>\n",
      "      <th>0</th>\n",
      "      <td>Equatorial Diameter:</td>\n",
      "      <td>6,792 km</td>\n",
      "    </tr>\n",
      "    <tr>\n",
      "      <th>1</th>\n",
      "      <td>Polar Diameter:</td>\n",
      "      <td>6,752 km</td>\n",
      "    </tr>\n",
      "    <tr>\n",
      "      <th>2</th>\n",
      "      <td>Mass:</td>\n",
      "      <td>6.39 × 10^23 kg (0.11 Earths)</td>\n",
      "    </tr>\n",
      "    <tr>\n",
      "      <th>3</th>\n",
      "      <td>Moons:</td>\n",
      "      <td>2 (Phobos &amp; Deimos)</td>\n",
      "    </tr>\n",
      "    <tr>\n",
      "      <th>4</th>\n",
      "      <td>Orbit Distance:</td>\n",
      "      <td>227,943,824 km (1.38 AU)</td>\n",
      "    </tr>\n",
      "    <tr>\n",
      "      <th>5</th>\n",
      "      <td>Orbit Period:</td>\n",
      "      <td>687 days (1.9 years)</td>\n",
      "    </tr>\n",
      "    <tr>\n",
      "      <th>6</th>\n",
      "      <td>Surface Temperature:</td>\n",
      "      <td>-87 to -5 °C</td>\n",
      "    </tr>\n",
      "    <tr>\n",
      "      <th>7</th>\n",
      "      <td>First Record:</td>\n",
      "      <td>2nd millennium BC</td>\n",
      "    </tr>\n",
      "    <tr>\n",
      "      <th>8</th>\n",
      "      <td>Recorded By:</td>\n",
      "      <td>Egyptian astronomers</td>\n",
      "    </tr>\n",
      "  </tbody>\n",
      "</table>\n"
     ]
    }
   ],
   "source": [
    "# mars_df.to_html()\n",
    "html_table = mars_df.to_html()\n",
    "print(html_table)"
   ]
  },
  {
   "cell_type": "code",
   "execution_count": 20,
   "id": "conventional-estimate",
   "metadata": {},
   "outputs": [],
   "source": [
    "mars_df.to_html('mars_table.html')"
   ]
  },
  {
   "cell_type": "code",
   "execution_count": null,
   "id": "chubby-flavor",
   "metadata": {},
   "outputs": [],
   "source": []
  },
  {
   "cell_type": "code",
   "execution_count": null,
   "id": "specific-charger",
   "metadata": {},
   "outputs": [],
   "source": []
  }
 ],
 "metadata": {
  "kernelspec": {
   "display_name": "Python 3",
   "language": "python",
   "name": "python3"
  },
  "language_info": {
   "codemirror_mode": {
    "name": "ipython",
    "version": 3
   },
   "file_extension": ".py",
   "mimetype": "text/x-python",
   "name": "python",
   "nbconvert_exporter": "python",
   "pygments_lexer": "ipython3",
   "version": "3.8.5"
  }
 },
 "nbformat": 4,
 "nbformat_minor": 5
}
